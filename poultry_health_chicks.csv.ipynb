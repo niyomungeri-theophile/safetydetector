{
 "cells": [
  {
   "cell_type": "code",
   "execution_count": 14,
   "id": "dec2a654-d4a7-4c35-937c-3dc81489d12d",
   "metadata": {},
   "outputs": [],
   "source": [
    "import pandas as pd\n",
    "import matplotlib.pyplot as plt\n",
    "from sklearn.metrics import accuracy_score, confusion_matrix\n",
    "from sklearn.model_selection import train_test_split\n",
    "from sklearn.ensemble import RandomForestClassifier\n",
    "import joblib\n",
    "\n"
   ]
  },
  {
   "cell_type": "code",
   "execution_count": 29,
   "id": "43dfd100-d9cb-4f74-b967-6ec258703d92",
   "metadata": {},
   "outputs": [
    {
     "name": "stdout",
     "output_type": "stream",
     "text": [
      "     Temperature  humidity  oxygen                    Likely Disease / Notes\n",
      "0           38.0        59    21.2                                    Normal\n",
      "1           38.3        62    20.7  Mushy Chick Disease / Aspergillosis Risk\n",
      "2           37.7        61    21.0                                    Normal\n",
      "3           36.6        58    20.7                               Hypothermia\n",
      "4           37.9        61    20.9          Coccidiosis Risk (High humidity)\n",
      "..           ...       ...     ...                                       ...\n",
      "295         36.8        57    20.5                               Hypothermia\n",
      "296         37.6        60    21.0                                    Normal\n",
      "297         39.3        66    21.1                               Heat Stress\n",
      "298         37.5        61    20.9          Coccidiosis Risk (High humidity)\n",
      "299         37.1        61    20.9                                    Normal\n",
      "\n",
      "[300 rows x 4 columns]\n"
     ]
    }
   ],
   "source": [
    "df=pd.read_csv( \"poultry_health_chicks.csv\")\n",
    "print(df.head(300))\n",
    "\n"
   ]
  },
  {
   "cell_type": "code",
   "execution_count": null,
   "id": "6e981e3e-e3b8-4c2a-8bf9-75a5bce23cc8",
   "metadata": {},
   "outputs": [],
   "source": [
    "df = pd.read_csv(\"poultry_health_chicks.csv\")  # replace with your CSV path\n",
    "X = df.drop(\"target\", axis=1)      # replace 'target' with your column name\n",
    "y = df[\"target\"]"
   ]
  },
  {
   "cell_type": "code",
   "execution_count": null,
   "id": "d1d1d169-5e2c-4762-b46f-6c0d947ba4e1",
   "metadata": {},
   "outputs": [],
   "source": [
    "X_train, X_test, y_train, y_test = train_test_split(X, y, test_size=0.2, random_state=0)\n",
    "print(X_train)"
   ]
  },
  {
   "cell_type": "code",
   "execution_count": null,
   "id": "5db3579e-a0fd-47c8-989c-fe4e5b2ff091",
   "metadata": {},
   "outputs": [],
   "source": [
    "print(y_train)"
   ]
  },
  {
   "cell_type": "code",
   "execution_count": null,
   "id": "48944548-85d0-42b4-9294-05ae6acc4ad6",
   "metadata": {},
   "outputs": [],
   "source": [
    " model=RandomForestClassifier(n_estimators=100,random_state=0)\n",
    " model.fit(X_test,y_test)"
   ]
  },
  {
   "cell_type": "code",
   "execution_count": null,
   "id": "a3404091-02f8-44a9-9170-248987d86a39",
   "metadata": {},
   "outputs": [],
   "source": [
    "y_pred = model.predict(X_test)"
   ]
  },
  {
   "cell_type": "code",
   "execution_count": null,
   "id": "c9190e02-7999-4db6-9576-510087a20a04",
   "metadata": {},
   "outputs": [],
   "source": [
    "accuracy = accuracy_score(y_test, y_pred)\n",
    "print(\"Accuracy:\", accuracy)\n",
    "print(confusion_matrix(y_test, y_pred))"
   ]
  },
  {
   "cell_type": "code",
   "execution_count": null,
   "id": "6f82664a-7657-482d-b02d-db04ae2ee4c3",
   "metadata": {},
   "outputs": [],
   "source": [
    "plt.figure(figsize=(12,6))\n",
    "plt.plot(y_test.values[:20], label=\"Actual\", marker='o')\n",
    "plt.plot(y_pred[:20], label=\"Predicted\", marker='x')\n",
    "plt.title(\"Actual vs Predicted Disease Status (first 20 samples)\")\n",
    "plt.xlabel(\"Sample index\")\n",
    "plt.ylabel(\"Disease Status\")\n",
    "plt.xticks(rotation=45)\n",
    "plt.legend()\n",
    "plt.show()\n"
   ]
  },
  {
   "cell_type": "code",
   "execution_count": null,
   "id": "f2ddac19-fa17-4cc6-ae42-0761307cfc35",
   "metadata": {},
   "outputs": [],
   "source": [
    "import pandas as pd\n",
    "\n",
    "feature_importance = pd.Series(model.feature_importances_, index=X.columns)\n",
    "feature_importance.sort_values().plot(kind='barh', figsize=(8,4), color='skyblue')\n",
    "plt.title(\"Feature Importance\")\n",
    "plt.xlabel(\"Importance\")\n",
    "plt.show()\n"
   ]
  },
  {
   "cell_type": "code",
   "execution_count": null,
   "id": "4a3462d1-8d39-4eaa-b58d-467e9636f426",
   "metadata": {},
   "outputs": [],
   "source": [
    "from sklearn.metrics import confusion_matrix, ConfusionMatrixDisplay\n",
    "\n",
    "cm = confusion_matrix(y_test, y_pred, labels=y.unique())\n",
    "disp = ConfusionMatrixDisplay(confusion_matrix=cm, display_labels=y.unique())\n",
    "disp.plot(cmap=plt.cm.Blues)\n",
    "plt.show()\n"
   ]
  },
  {
   "cell_type": "code",
   "execution_count": null,
   "id": "034acf4a-824f-4ce9-834e-a3bcfd82b73d",
   "metadata": {},
   "outputs": [],
   "source": [
    "import seaborn as sns\n",
    "sns.pairplot(df, hue=\"Likely Disease / Notes\")\n",
    "plt.show()\n"
   ]
  },
  {
   "cell_type": "code",
   "execution_count": null,
   "id": "6b5e572d-fdec-4920-8d7e-495dc8546335",
   "metadata": {},
   "outputs": [],
   "source": [
    "SAVING=model\n",
    "import pickle\n",
    "with open('SAVING','wb') as file:\n",
    "    pickle.dump(SAVING,file)"
   ]
  },
  {
   "cell_type": "code",
   "execution_count": null,
   "id": "7ed7718f-cf3e-44b6-b504-2d5b3b651723",
   "metadata": {},
   "outputs": [],
   "source": [
    "joblib.dump(model, \"model.joblib\")"
   ]
  },
  {
   "cell_type": "code",
   "execution_count": 44,
   "id": "862fea83-6e17-414d-91e1-0be1dd63946c",
   "metadata": {},
   "outputs": [],
   "source": [
    "X_train, X_test, y_train, y_test = train_test_split(X, y, test_size=0.2, random_state=42)"
   ]
  },
  {
   "cell_type": "code",
   "execution_count": null,
   "id": "4cccdeda-aa94-45d4-bac4-f6c7ce9c30aa",
   "metadata": {},
   "outputs": [],
   "source": []
  },
  {
   "cell_type": "code",
   "execution_count": null,
   "id": "cee46ad9-0d89-45b6-b47d-dc82287dbbe7",
   "metadata": {},
   "outputs": [],
   "source": []
  },
  {
   "cell_type": "code",
   "execution_count": null,
   "id": "658044db-5d48-4cff-8bd9-eb921246004b",
   "metadata": {},
   "outputs": [],
   "source": []
  },
  {
   "cell_type": "code",
   "execution_count": null,
   "id": "97f4053e-54ae-41d4-8c2f-b580411bf9af",
   "metadata": {},
   "outputs": [],
   "source": []
  }
 ],
 "metadata": {
  "kernelspec": {
   "display_name": "Python 3 (ipykernel)",
   "language": "python",
   "name": "python3"
  },
  "language_info": {
   "codemirror_mode": {
    "name": "ipython",
    "version": 3
   },
   "file_extension": ".py",
   "mimetype": "text/x-python",
   "name": "python",
   "nbconvert_exporter": "python",
   "pygments_lexer": "ipython3",
   "version": "3.12.7"
  }
 },
 "nbformat": 4,
 "nbformat_minor": 5
}
